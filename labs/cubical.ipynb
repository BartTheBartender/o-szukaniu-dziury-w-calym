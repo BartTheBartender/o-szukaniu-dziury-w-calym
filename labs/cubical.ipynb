{
 "cells": [
  {
   "cell_type": "code",
   "execution_count": 3,
   "id": "542b339b-43ff-4ef5-a068-54e42385e30f",
   "metadata": {},
   "outputs": [
    {
     "ename": "DecompressionBombError",
     "evalue": "Image size (813957120 pixels) exceeds limit of 178956970 pixels, could be decompression bomb DOS attack.",
     "output_type": "error",
     "traceback": [
      "\u001b[31m---------------------------------------------------------------------------\u001b[39m",
      "\u001b[31mDecompressionBombError\u001b[39m                    Traceback (most recent call last)",
      "\u001b[36mCell\u001b[39m\u001b[36m \u001b[39m\u001b[32mIn[3]\u001b[39m\u001b[32m, line 7\u001b[39m\n\u001b[32m      4\u001b[39m tiff_path = \u001b[33m'\u001b[39m\u001b[33mdata/images/0.tiff\u001b[39m\u001b[33m'\u001b[39m\n\u001b[32m      5\u001b[39m png_path = \u001b[33m'\u001b[39m\u001b[33moutput_image.png\u001b[39m\u001b[33m'\u001b[39m\n\u001b[32m----> \u001b[39m\u001b[32m7\u001b[39m \u001b[38;5;28;01mwith\u001b[39;00m \u001b[43mImage\u001b[49m\u001b[43m.\u001b[49m\u001b[43mopen\u001b[49m\u001b[43m(\u001b[49m\u001b[43mtiff_path\u001b[49m\u001b[43m)\u001b[49m \u001b[38;5;28;01mas\u001b[39;00m img:\n\u001b[32m      8\u001b[39m     gray_img = img.convert(\u001b[33m'\u001b[39m\u001b[33mL\u001b[39m\u001b[33m'\u001b[39m)  \u001b[38;5;66;03m# 'L' mode is grayscale\u001b[39;00m\n\u001b[32m      9\u001b[39m     gray_img.save(png_path)\n",
      "\u001b[36mFile \u001b[39m\u001b[32m/usr/local/Caskroom/miniconda/base/envs/warsztaty-wbbib/lib/python3.13/site-packages/PIL/Image.py:3551\u001b[39m, in \u001b[36mopen\u001b[39m\u001b[34m(fp, mode, formats)\u001b[39m\n\u001b[32m   3548\u001b[39m             \u001b[38;5;28;01mraise\u001b[39;00m\n\u001b[32m   3549\u001b[39m     \u001b[38;5;28;01mreturn\u001b[39;00m \u001b[38;5;28;01mNone\u001b[39;00m\n\u001b[32m-> \u001b[39m\u001b[32m3551\u001b[39m im = \u001b[43m_open_core\u001b[49m\u001b[43m(\u001b[49m\u001b[43mfp\u001b[49m\u001b[43m,\u001b[49m\u001b[43m \u001b[49m\u001b[43mfilename\u001b[49m\u001b[43m,\u001b[49m\u001b[43m \u001b[49m\u001b[43mprefix\u001b[49m\u001b[43m,\u001b[49m\u001b[43m \u001b[49m\u001b[43mformats\u001b[49m\u001b[43m)\u001b[49m\n\u001b[32m   3553\u001b[39m \u001b[38;5;28;01mif\u001b[39;00m im \u001b[38;5;129;01mis\u001b[39;00m \u001b[38;5;28;01mNone\u001b[39;00m \u001b[38;5;129;01mand\u001b[39;00m formats \u001b[38;5;129;01mis\u001b[39;00m ID:\n\u001b[32m   3554\u001b[39m     checked_formats = ID.copy()\n",
      "\u001b[36mFile \u001b[39m\u001b[32m/usr/local/Caskroom/miniconda/base/envs/warsztaty-wbbib/lib/python3.13/site-packages/PIL/Image.py:3540\u001b[39m, in \u001b[36mopen.<locals>._open_core\u001b[39m\u001b[34m(fp, filename, prefix, formats)\u001b[39m\n\u001b[32m   3538\u001b[39m         fp.seek(\u001b[32m0\u001b[39m)\n\u001b[32m   3539\u001b[39m         im = factory(fp, filename)\n\u001b[32m-> \u001b[39m\u001b[32m3540\u001b[39m         \u001b[43m_decompression_bomb_check\u001b[49m\u001b[43m(\u001b[49m\u001b[43mim\u001b[49m\u001b[43m.\u001b[49m\u001b[43msize\u001b[49m\u001b[43m)\u001b[49m\n\u001b[32m   3541\u001b[39m         \u001b[38;5;28;01mreturn\u001b[39;00m im\n\u001b[32m   3542\u001b[39m \u001b[38;5;28;01mexcept\u001b[39;00m (\u001b[38;5;167;01mSyntaxError\u001b[39;00m, \u001b[38;5;167;01mIndexError\u001b[39;00m, \u001b[38;5;167;01mTypeError\u001b[39;00m, struct.error) \u001b[38;5;28;01mas\u001b[39;00m e:\n",
      "\u001b[36mFile \u001b[39m\u001b[32m/usr/local/Caskroom/miniconda/base/envs/warsztaty-wbbib/lib/python3.13/site-packages/PIL/Image.py:3439\u001b[39m, in \u001b[36m_decompression_bomb_check\u001b[39m\u001b[34m(size)\u001b[39m\n\u001b[32m   3434\u001b[39m \u001b[38;5;28;01mif\u001b[39;00m pixels > \u001b[32m2\u001b[39m * MAX_IMAGE_PIXELS:\n\u001b[32m   3435\u001b[39m     msg = (\n\u001b[32m   3436\u001b[39m         \u001b[33mf\u001b[39m\u001b[33m\"\u001b[39m\u001b[33mImage size (\u001b[39m\u001b[38;5;132;01m{\u001b[39;00mpixels\u001b[38;5;132;01m}\u001b[39;00m\u001b[33m pixels) exceeds limit of \u001b[39m\u001b[38;5;132;01m{\u001b[39;00m\u001b[32m2\u001b[39m\u001b[38;5;250m \u001b[39m*\u001b[38;5;250m \u001b[39mMAX_IMAGE_PIXELS\u001b[38;5;132;01m}\u001b[39;00m\u001b[33m \u001b[39m\u001b[33m\"\u001b[39m\n\u001b[32m   3437\u001b[39m         \u001b[33m\"\u001b[39m\u001b[33mpixels, could be decompression bomb DOS attack.\u001b[39m\u001b[33m\"\u001b[39m\n\u001b[32m   3438\u001b[39m     )\n\u001b[32m-> \u001b[39m\u001b[32m3439\u001b[39m     \u001b[38;5;28;01mraise\u001b[39;00m DecompressionBombError(msg)\n\u001b[32m   3441\u001b[39m \u001b[38;5;28;01mif\u001b[39;00m pixels > MAX_IMAGE_PIXELS:\n\u001b[32m   3442\u001b[39m     warnings.warn(\n\u001b[32m   3443\u001b[39m         \u001b[33mf\u001b[39m\u001b[33m\"\u001b[39m\u001b[33mImage size (\u001b[39m\u001b[38;5;132;01m{\u001b[39;00mpixels\u001b[38;5;132;01m}\u001b[39;00m\u001b[33m pixels) exceeds limit of \u001b[39m\u001b[38;5;132;01m{\u001b[39;00mMAX_IMAGE_PIXELS\u001b[38;5;132;01m}\u001b[39;00m\u001b[33m pixels, \u001b[39m\u001b[33m\"\u001b[39m\n\u001b[32m   3444\u001b[39m         \u001b[33m\"\u001b[39m\u001b[33mcould be decompression bomb DOS attack.\u001b[39m\u001b[33m\"\u001b[39m,\n\u001b[32m   3445\u001b[39m         DecompressionBombWarning,\n\u001b[32m   3446\u001b[39m     )\n",
      "\u001b[31mDecompressionBombError\u001b[39m: Image size (813957120 pixels) exceeds limit of 178956970 pixels, could be decompression bomb DOS attack."
     ]
    }
   ],
   "source": [
    "from PIL import Image\n",
    "\n",
    "# Load TIFF image and convert to grayscale\n",
    "tiff_path = 'data/images/0.tiff'\n",
    "png_path = 'output_image.png'\n",
    "\n",
    "with Image.open(tiff_path) as img:\n",
    "    gray_img = img.convert('L')  # 'L' mode is grayscale\n",
    "    gray_img.save(png_path)\n",
    "\n",
    "print(f\"Converted {tiff_path} to grayscale PNG saved as {png_path}\")\n"
   ]
  },
  {
   "cell_type": "code",
   "execution_count": null,
   "id": "e4be9a22-2865-41a3-9a47-cccd6c703467",
   "metadata": {},
   "outputs": [],
   "source": []
  }
 ],
 "metadata": {
  "kernelspec": {
   "display_name": "Python 3 (ipykernel)",
   "language": "python",
   "name": "python3"
  },
  "language_info": {
   "codemirror_mode": {
    "name": "ipython",
    "version": 3
   },
   "file_extension": ".py",
   "mimetype": "text/x-python",
   "name": "python",
   "nbconvert_exporter": "python",
   "pygments_lexer": "ipython3",
   "version": "3.13.2"
  }
 },
 "nbformat": 4,
 "nbformat_minor": 5
}
