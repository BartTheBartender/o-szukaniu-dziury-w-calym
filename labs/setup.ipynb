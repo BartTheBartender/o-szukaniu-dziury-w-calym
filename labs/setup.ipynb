{
 "cells": [
  {
   "cell_type": "code",
   "execution_count": 7,
   "id": "06d32449-7241-4295-9883-2ecb75f08a8d",
   "metadata": {
    "scrolled": true
   },
   "outputs": [
    {
     "name": "stdout",
     "output_type": "stream",
     "text": [
      "Requirement already satisfied: cryptography in /usr/local/Caskroom/miniconda/base/envs/warsztaty-wbbib/lib/python3.13/site-packages (44.0.3)\n",
      "Requirement already satisfied: numpy in /usr/local/Caskroom/miniconda/base/envs/warsztaty-wbbib/lib/python3.13/site-packages (2.2.5)\n",
      "Requirement already satisfied: numpy-stl in /usr/local/Caskroom/miniconda/base/envs/warsztaty-wbbib/lib/python3.13/site-packages (3.2.0)\n",
      "Requirement already satisfied: pandas in /usr/local/Caskroom/miniconda/base/envs/warsztaty-wbbib/lib/python3.13/site-packages (2.2.3)\n",
      "Requirement already satisfied: matplotlib in /usr/local/Caskroom/miniconda/base/envs/warsztaty-wbbib/lib/python3.13/site-packages (3.10.3)\n",
      "Requirement already satisfied: Pillow in /usr/local/Caskroom/miniconda/base/envs/warsztaty-wbbib/lib/python3.13/site-packages (11.2.1)\n",
      "Requirement already satisfied: cffi>=1.12 in /usr/local/Caskroom/miniconda/base/envs/warsztaty-wbbib/lib/python3.13/site-packages (from cryptography) (1.17.1)\n",
      "Requirement already satisfied: python-utils>=3.4.5 in /usr/local/Caskroom/miniconda/base/envs/warsztaty-wbbib/lib/python3.13/site-packages (from numpy-stl) (3.9.1)\n",
      "Requirement already satisfied: python-dateutil>=2.8.2 in /usr/local/Caskroom/miniconda/base/envs/warsztaty-wbbib/lib/python3.13/site-packages (from pandas) (2.9.0.post0)\n",
      "Requirement already satisfied: pytz>=2020.1 in /usr/local/Caskroom/miniconda/base/envs/warsztaty-wbbib/lib/python3.13/site-packages (from pandas) (2025.2)\n",
      "Requirement already satisfied: tzdata>=2022.7 in /usr/local/Caskroom/miniconda/base/envs/warsztaty-wbbib/lib/python3.13/site-packages (from pandas) (2025.2)\n",
      "Requirement already satisfied: contourpy>=1.0.1 in /usr/local/Caskroom/miniconda/base/envs/warsztaty-wbbib/lib/python3.13/site-packages (from matplotlib) (1.3.2)\n",
      "Requirement already satisfied: cycler>=0.10 in /usr/local/Caskroom/miniconda/base/envs/warsztaty-wbbib/lib/python3.13/site-packages (from matplotlib) (0.12.1)\n",
      "Requirement already satisfied: fonttools>=4.22.0 in /usr/local/Caskroom/miniconda/base/envs/warsztaty-wbbib/lib/python3.13/site-packages (from matplotlib) (4.58.0)\n",
      "Requirement already satisfied: kiwisolver>=1.3.1 in /usr/local/Caskroom/miniconda/base/envs/warsztaty-wbbib/lib/python3.13/site-packages (from matplotlib) (1.4.8)\n",
      "Requirement already satisfied: packaging>=20.0 in /usr/local/Caskroom/miniconda/base/envs/warsztaty-wbbib/lib/python3.13/site-packages (from matplotlib) (25.0)\n",
      "Requirement already satisfied: pyparsing>=2.3.1 in /usr/local/Caskroom/miniconda/base/envs/warsztaty-wbbib/lib/python3.13/site-packages (from matplotlib) (3.2.3)\n",
      "Requirement already satisfied: pycparser in /usr/local/Caskroom/miniconda/base/envs/warsztaty-wbbib/lib/python3.13/site-packages (from cffi>=1.12->cryptography) (2.22)\n",
      "Requirement already satisfied: six>=1.5 in /usr/local/Caskroom/miniconda/base/envs/warsztaty-wbbib/lib/python3.13/site-packages (from python-dateutil>=2.8.2->pandas) (1.17.0)\n",
      "Requirement already satisfied: typing_extensions>3.10.0.2 in /usr/local/Caskroom/miniconda/base/envs/warsztaty-wbbib/lib/python3.13/site-packages (from python-utils>=3.4.5->numpy-stl) (4.13.2)\n"
     ]
    }
   ],
   "source": [
    "!pip install cryptography numpy numpy-stl pandas matplotlib Pillow"
   ]
  },
  {
   "cell_type": "code",
   "execution_count": 11,
   "id": "0283f2f6-5525-4ee1-8976-1e56ee7b7364",
   "metadata": {},
   "outputs": [
    {
     "name": "stdout",
     "output_type": "stream",
     "text": [
      "Cloning into 'kropki'...\n",
      "remote: Enumerating objects: 1561, done.\u001b[K\n",
      "remote: Counting objects: 100% (1561/1561), done.\u001b[K\n",
      "remote: Compressing objects: 100% (1105/1105), done.\u001b[K\n",
      "remote: Total 1561 (delta 270), reused 1538 (delta 249), pack-reused 0 (from 0)\u001b[K\n",
      "Receiving objects: 100% (1561/1561), 3.97 MiB | 12.20 MiB/s, done.\n",
      "Resolving deltas: 100% (270/270), done.\n"
     ]
    }
   ],
   "source": [
    "!git clone https://github.com/BartTheBartender/kropki.git"
   ]
  },
  {
   "cell_type": "code",
   "execution_count": 15,
   "id": "0324cb9b-4b4b-47f2-97fa-bc27ee11a7b3",
   "metadata": {},
   "outputs": [],
   "source": [
    "from cryptography.hazmat.primitives.asymmetric import rsa, padding\n",
    "from cryptography.hazmat.primitives import serialization, hashes\n",
    "\n",
    "# Step 2: Encrypt a message with the public key\n",
    "def encrypt_message(public_key, message):\n",
    "    ciphertext = public_key.encrypt(\n",
    "        message.encode(),\n",
    "        padding.OAEP(\n",
    "            mgf=padding.MGF1(algorithm=hashes.SHA256()),\n",
    "            algorithm=hashes.SHA256(),\n",
    "            label=None\n",
    "        )\n",
    "    )\n",
    "    return ciphertext\n",
    "\n",
    "# Step 3: Decrypt a message with the private key\n",
    "def decrypt_message(private_key, ciphertext):\n",
    "    plaintext = private_key.decrypt(\n",
    "        ciphertext,\n",
    "        padding.OAEP(\n",
    "            mgf=padding.MGF1(algorithm=hashes.SHA256()),\n",
    "            algorithm=hashes.SHA256(),\n",
    "            label=None\n",
    "        )\n",
    "    )\n",
    "    return plaintext.decode()\n",
    "\n",
    "\n",
    "def load_private_key(filepath):\n",
    "    with open(filepath, \"rb\") as key_file:\n",
    "        private_key = serialization.load_pem_private_key(\n",
    "            key_file.read(),\n",
    "            password=None  # Use password=b\"your_password\" if encrypted\n",
    "        )\n",
    "    print(\"Private key loaded successfully!\")\n",
    "    return private_key\n",
    "\n",
    "def load_public_key(filepath):\n",
    "    with open(filepath, \"rb\") as key_file:\n",
    "        public_key = serialization.load_pem_public_key(\n",
    "            key_file.read()\n",
    "        )\n",
    "    print(\"Public key loaded successfully!\")\n",
    "    return public_key"
   ]
  },
  {
   "cell_type": "code",
   "execution_count": 14,
   "id": "3e4e5ba7-75d3-4ae5-bb08-6a2924d71678",
   "metadata": {},
   "outputs": [
    {
     "name": "stdout",
     "output_type": "stream",
     "text": [
      "Private key loaded successfully!\n",
      "Original Message: Hello, RSA!\n",
      "Encrypted Message: b\",u\\xab&\\t\\xe3\\xb5zJ\\xcf\\xa7\\xf8\\xf1\\xfdtT\\x11;\\x9d\\xc7+\\xd2L\\no\\xe6\\x0f\\xa6\\xa1\\xf4@\\xce\\xac\\xa7\\xb5\\xc3\\xab\\xd4\\x8e\\xdd\\x92\\x81j\\x16\\xdd\\x1d\\xbc\\x03\\x830\\xf1^\\xf9e\\x9e\\xee\\xa8\\xb7\\x85wY\\x138\\x17n\\x84\\xe2>\\x1a\\xffeB\\t\\xae\\xc1\\x11J<Y4\\xa7-4k{\\xd16``\\xa2\\x15\\x8f8*x,!\\xb4\\x0e\\xc4\\xd0\\xb3\\xff\\x83}\\xd5\\xbfz4\\xc4\\xebU\\xd6\\x17\\xb9m\\xf6\\x00\\xf5\\xab\\xeb\\xed\\x9f\\x8a\\x99\\xd5p\\x18\\x06\\x94\\xddf\\xb3c`\\xc4Wb\\x1a\\xed\\x99l\\xdb'\\x89\\x99_\\x996\\x94<S\\xf3\\xbbW\\t\\xf8\\xe1\\xd7\\xcdb{t\\x1d\\n\\xb1O\\x02\\x9b\\xfdV\\xbbX\\x8fF\\x10\\xe8\\x01\\x03\\x10$\\x18\\x9be\\xf0\\xd4\\xbe\\xb47\\x96LQ\\xd1bC\\xd90b\\xe2\\x87\\xa8\\x8f,\\xaf\\x02N/s\\xd7\\xef\\xc6\\x18\\x9a\\xba\\xa1m\\xa5\\x10dHoVr\\x9d\\xf8N\\x8a\\xf0\\xcaJ\\x07\\xc7\\xde\\x8e\\xcb\\xa0\\xe1o];\\x10\\xfd\\x10V\\x14\\xcdu\\xe9,\\x13FEi\\x06\\x84\\x82\"\n",
      "Decrypted Message: Hello, RSA!\n"
     ]
    }
   ],
   "source": [
    "# Load the private key from the saved file\n",
    "private_key = load_private_key(\"private_key.pem\")\n",
    "\n",
    "# Step 5: Test the RSA functions\n",
    "private_key, public_key = generate_keys()\n",
    "save_keys(private_key, public_key)\n",
    "\n",
    "message = \"Hello, RSA!\"\n",
    "print(f\"Original Message: {message}\")\n",
    "\n",
    "ciphertext = encrypt_message(public_key, message)\n",
    "print(f\"Encrypted Message: {ciphertext}\")\n",
    "\n",
    "decrypted_message = decrypt_message(private_key, ciphertext)\n",
    "print(f\"Decrypted Message: {decrypted_message}\")"
   ]
  },
  {
   "cell_type": "code",
   "execution_count": null,
   "id": "611a7702-ee33-46b6-8ccb-76dc7949b0bc",
   "metadata": {},
   "outputs": [],
   "source": []
  }
 ],
 "metadata": {
  "kernelspec": {
   "display_name": "Python 3 (ipykernel)",
   "language": "python",
   "name": "python3"
  },
  "language_info": {
   "codemirror_mode": {
    "name": "ipython",
    "version": 3
   },
   "file_extension": ".py",
   "mimetype": "text/x-python",
   "name": "python",
   "nbconvert_exporter": "python",
   "pygments_lexer": "ipython3",
   "version": "3.13.2"
  }
 },
 "nbformat": 4,
 "nbformat_minor": 5
}
