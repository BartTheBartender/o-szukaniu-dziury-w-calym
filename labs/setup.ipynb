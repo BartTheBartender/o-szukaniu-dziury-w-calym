{
 "cells": [
  {
   "cell_type": "code",
   "execution_count": 7,
   "id": "06d32449-7241-4295-9883-2ecb75f08a8d",
   "metadata": {
    "scrolled": true
   },
   "outputs": [
    {
     "name": "stdout",
     "output_type": "stream",
     "text": [
      "Requirement already satisfied: cryptography in /usr/local/Caskroom/miniconda/base/envs/warsztaty-wbbib/lib/python3.13/site-packages (44.0.3)\n",
      "Requirement already satisfied: numpy in /usr/local/Caskroom/miniconda/base/envs/warsztaty-wbbib/lib/python3.13/site-packages (2.2.5)\n",
      "Requirement already satisfied: numpy-stl in /usr/local/Caskroom/miniconda/base/envs/warsztaty-wbbib/lib/python3.13/site-packages (3.2.0)\n",
      "Requirement already satisfied: pandas in /usr/local/Caskroom/miniconda/base/envs/warsztaty-wbbib/lib/python3.13/site-packages (2.2.3)\n",
      "Requirement already satisfied: matplotlib in /usr/local/Caskroom/miniconda/base/envs/warsztaty-wbbib/lib/python3.13/site-packages (3.10.3)\n",
      "Requirement already satisfied: Pillow in /usr/local/Caskroom/miniconda/base/envs/warsztaty-wbbib/lib/python3.13/site-packages (11.2.1)\n",
      "Requirement already satisfied: cffi>=1.12 in /usr/local/Caskroom/miniconda/base/envs/warsztaty-wbbib/lib/python3.13/site-packages (from cryptography) (1.17.1)\n",
      "Requirement already satisfied: python-utils>=3.4.5 in /usr/local/Caskroom/miniconda/base/envs/warsztaty-wbbib/lib/python3.13/site-packages (from numpy-stl) (3.9.1)\n",
      "Requirement already satisfied: python-dateutil>=2.8.2 in /usr/local/Caskroom/miniconda/base/envs/warsztaty-wbbib/lib/python3.13/site-packages (from pandas) (2.9.0.post0)\n",
      "Requirement already satisfied: pytz>=2020.1 in /usr/local/Caskroom/miniconda/base/envs/warsztaty-wbbib/lib/python3.13/site-packages (from pandas) (2025.2)\n",
      "Requirement already satisfied: tzdata>=2022.7 in /usr/local/Caskroom/miniconda/base/envs/warsztaty-wbbib/lib/python3.13/site-packages (from pandas) (2025.2)\n",
      "Requirement already satisfied: contourpy>=1.0.1 in /usr/local/Caskroom/miniconda/base/envs/warsztaty-wbbib/lib/python3.13/site-packages (from matplotlib) (1.3.2)\n",
      "Requirement already satisfied: cycler>=0.10 in /usr/local/Caskroom/miniconda/base/envs/warsztaty-wbbib/lib/python3.13/site-packages (from matplotlib) (0.12.1)\n",
      "Requirement already satisfied: fonttools>=4.22.0 in /usr/local/Caskroom/miniconda/base/envs/warsztaty-wbbib/lib/python3.13/site-packages (from matplotlib) (4.58.0)\n",
      "Requirement already satisfied: kiwisolver>=1.3.1 in /usr/local/Caskroom/miniconda/base/envs/warsztaty-wbbib/lib/python3.13/site-packages (from matplotlib) (1.4.8)\n",
      "Requirement already satisfied: packaging>=20.0 in /usr/local/Caskroom/miniconda/base/envs/warsztaty-wbbib/lib/python3.13/site-packages (from matplotlib) (25.0)\n",
      "Requirement already satisfied: pyparsing>=2.3.1 in /usr/local/Caskroom/miniconda/base/envs/warsztaty-wbbib/lib/python3.13/site-packages (from matplotlib) (3.2.3)\n",
      "Requirement already satisfied: pycparser in /usr/local/Caskroom/miniconda/base/envs/warsztaty-wbbib/lib/python3.13/site-packages (from cffi>=1.12->cryptography) (2.22)\n",
      "Requirement already satisfied: six>=1.5 in /usr/local/Caskroom/miniconda/base/envs/warsztaty-wbbib/lib/python3.13/site-packages (from python-dateutil>=2.8.2->pandas) (1.17.0)\n",
      "Requirement already satisfied: typing_extensions>3.10.0.2 in /usr/local/Caskroom/miniconda/base/envs/warsztaty-wbbib/lib/python3.13/site-packages (from python-utils>=3.4.5->numpy-stl) (4.13.2)\n"
     ]
    }
   ],
   "source": [
    "!pip install cryptography numpy numpy-stl pandas matplotlib Pillow ipython"
   ]
  },
  {
   "cell_type": "code",
   "execution_count": 2,
   "id": "0283f2f6-5525-4ee1-8976-1e56ee7b7364",
   "metadata": {},
   "outputs": [],
   "source": [
    "#!git clone https://github.com/BartTheBartender/kropki.git"
   ]
  },
  {
   "cell_type": "code",
   "execution_count": 3,
   "id": "0324cb9b-4b4b-47f2-97fa-bc27ee11a7b3",
   "metadata": {},
   "outputs": [],
   "source": []
  },
  {
   "cell_type": "code",
   "execution_count": 8,
   "id": "3e4e5ba7-75d3-4ae5-bb08-6a2924d71678",
   "metadata": {},
   "outputs": [
    {
     "name": "stdout",
     "output_type": "stream",
     "text": [
      "Private key loaded successfully!\n",
      "Public key loaded successfully!\n",
      "Original Message: Hello, RSA!\n",
      "Encrypted Message: b\"y`\\xa7\\x15\\xde\\xf7\\xe3R\\xbcj\\x01\\x9a*\\xa3\\x02S\\x91/Hg{w\\x10\\x96\\xa4|AZ\\xf3\\x1a\\x1f\\xe3\\x0cl\\tI\\xd3t]\\xe0\\xef.\\x08\\xb0\\x05^\\xa1,6\\xea\\xb2\\xe7\\xe8`,\\x11:\\xc4\\x08Ku\\x05t$U\\xaeP\\xbaw\\x18\\x03\\xf1\\x16\\x92\\x94\\x95'\\x95\\x82i\\\\\\x9d\\xbf\\xfd\\xe9\\xb8\\x1c\\x05q\\x0c\\xaf\\xfb\\x81-=\\xa5\\xc2,;\\x89\\xc4]W\\xe3?\\xd7.\\xa4\\x98_N\\xc1\\xb4l\\xb4\\x00}\\x8b\\x11\\xeb\\xc2\\xe3\\xd4\\xe14)\\x95;m\\x8c\\xd4\\x8f\\xce\\x875\\xd61e^7\\xc5\\xd7\\xc5\\xa5\\xe8\\xae7\\x86\\xdd\\xe4\\x9e\\x1b\\xcd(\\x9ca\\\\\\xbe\\x98\\xa5\\x11%\\xe3\\xd8y\\x89f\\xef#\\xb1\\n\\x95\\xaa\\xb4\\xea#i\\xdfD\\xce\\x94\\x97\\xa7\\xe2\\x9fk\\xa7\\xc1,\\xed\\xd0\\x03\\x15\\x1f5-\\xde!n\\xef\\x18\\xa9\\xd9hxUK\\xe6\\xfa\\xea\\xbc\\x12\\x07\\xc9\\xff\\xef\\x80 \\xcd'\\x14\\xa3\\xc1\\xe1V\\xdb\\x01y@_\\x02)`\\xc9\\xbc\\x1f\\x16H\\x9e\\x8cC\\x88\\xc7\\xf7\\xf9\\\\\\x08P\\xae\\x06\\x91\\x83\\xaen\\x951\"\n",
      "Decrypted Message: Hello, RSA!\n"
     ]
    }
   ],
   "source": []
  },
  {
   "cell_type": "code",
   "execution_count": null,
   "id": "611a7702-ee33-46b6-8ccb-76dc7949b0bc",
   "metadata": {},
   "outputs": [],
   "source": []
  }
 ],
 "metadata": {
  "kernelspec": {
   "display_name": "Python 3 (ipykernel)",
   "language": "python",
   "name": "python3"
  },
  "language_info": {
   "codemirror_mode": {
    "name": "ipython",
    "version": 3
   },
   "file_extension": ".py",
   "mimetype": "text/x-python",
   "name": "python",
   "nbconvert_exporter": "python",
   "pygments_lexer": "ipython3",
   "version": "3.13.2"
  }
 },
 "nbformat": 4,
 "nbformat_minor": 5
}
